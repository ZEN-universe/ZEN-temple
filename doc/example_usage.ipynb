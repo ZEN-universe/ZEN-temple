{
 "cells": [
  {
   "cell_type": "markdown",
   "metadata": {},
   "source": [
    "# Introduction\n",
    "\n",
    "The ZEN Temple is a webserver with the purpose to provide a user-friendly API for working with results from ZEN Garden.\n",
    "\n",
    "You need to specify some environment variables by renaiming the `.env.example` file and overwrite the variables specified.\n",
    "Currently, only the variable `SOLUTION_FOLDER` is relevant which specifies the folder that contains the results from the ZEN Garden module. \n",
    "\n",
    "By default, this is `./public/outputs` and you can simply create this folder and copy the solutions that you want to explore to it. Otherwise you can also change the variable to a custom folder. Be aware though that the server will create new Numpy-Files that store the values of the different components!\n",
    "\n",
    "To start the server, you can use the following command `uvicorn src.main:app --reload --host 0.0.0.0` which starts the server in development mode. Be sure that you installed the dependencies first with `pip install -r requirements.txt`, preferably in a virtual environment.\n"
   ]
  },
  {
   "cell_type": "markdown",
   "metadata": {},
   "source": [
    "# Usage\n",
    "\n",
    "Once the server is running, you can try out if everything is working by heading over to `http://localhost:8000/docs` in your browser. It should show the Swagger-Documentation of all endpoints. Alternatively we can test it with Pythons `requests` module:"
   ]
  },
  {
   "cell_type": "code",
   "execution_count": null,
   "metadata": {},
   "outputs": [],
   "source": [
    "import requests\n",
    "\n",
    "base_url = \"http://localhost:8000\"\n",
    "\n",
    "requests.get(f\"{base_url}/docs\")"
   ]
  },
  {
   "cell_type": "markdown",
   "metadata": {},
   "source": [
    "If this works, the local version of your server is running. However, we will change to the public server for now to be sure that the solutions in this example exist:"
   ]
  },
  {
   "cell_type": "code",
   "execution_count": null,
   "metadata": {},
   "outputs": [],
   "source": [
    "base_url = \"https://zen-land.ethz.ch\""
   ]
  },
  {
   "cell_type": "markdown",
   "metadata": {},
   "source": [
    "The HTTP-response code 200 confirms that everything is working. As mentioned above, when you go to the URL in your browser, you can see all the endpoints that are implemented. We will quickly go through the most important ones:"
   ]
  },
  {
   "cell_type": "markdown",
   "metadata": {},
   "source": [
    "#### solutions/list \n",
    "\n",
    "This endpoint returns you a list of all the solutions that were found in the specified folder and that were able to be parsed. The list contains additional information about the solution that are provided in the `system.json` file of each solution."
   ]
  },
  {
   "cell_type": "code",
   "execution_count": null,
   "metadata": {},
   "outputs": [],
   "source": [
    "solutions = requests.get(f\"{base_url}/solutions/list\").json()\n",
    "solutions"
   ]
  },
  {
   "cell_type": "markdown",
   "metadata": {},
   "source": [
    "#### /solutions/{solution_name}/{scenario}/components\n",
    "\n",
    "The next endpoint will provide you with all the components of a solution given a solution_name and a scenario. Each component contains details about its indices, if it is yearly, etc.\n",
    "\n",
    "For example we can get the components of the first solution and the first scenario of the previous list:"
   ]
  },
  {
   "cell_type": "code",
   "execution_count": null,
   "metadata": {},
   "outputs": [],
   "source": [
    "first_solution = solutions[0]\n",
    "components = requests.get(f\"{base_url}/solutions/{first_solution['name']}/{first_solution['scenarios'][0]}/components\").json()\n",
    "components"
   ]
  },
  {
   "cell_type": "markdown",
   "metadata": {},
   "source": [
    "#### /solutions/get_data\n",
    "\n",
    "Given the results of the previous requests, we can come to the core of the API, the `get_data` endpoint. It provides the values of the numpy-files after aggregating and filtering the data according to the request. The best way to see how the request has to be structured is by looking at the schema given under `http://localhost:8000/docs#/Solutions/get_data_solutions_get_data_post`. However, we will explain the functionalities here.\n",
    "\n",
    "In general, the request must contain a solution name, a component, and a data_request. For now we leave the data_request empty which will result in the whole dataset. The response is parsed as a narrow csv, see https://en.wikipedia.org/wiki/Wide_and_narrow_data. This format is ideal for plotting libraries but further formats can be implemented without much effort."
   ]
  },
  {
   "cell_type": "code",
   "execution_count": null,
   "metadata": {},
   "outputs": [],
   "source": [
    "first_component = components[0]\n",
    "\n",
    "request = {\n",
    "    \"solution_name\": first_solution[\"name\"],\n",
    "    \"component\": first_component[\"component_name\"],\n",
    "    \"data_request\": {}\n",
    "}\n",
    "\n",
    "result = requests.post(f\"{base_url}/solutions/get_data\", json=request).json()\n",
    "print(result)"
   ]
  },
  {
   "cell_type": "markdown",
   "metadata": {},
   "source": [
    "In the example above, we did not further specify the data that we want. We can do this by adding index-sets to the data_request-field. For example if we only want the technologies \"natural_gas_boiler\" and \"photovoltaics\" we can add this to the request:"
   ]
  },
  {
   "cell_type": "code",
   "execution_count": null,
   "metadata": {},
   "outputs": [],
   "source": [
    "request = {\n",
    "    \"solution_name\": first_solution[\"name\"],\n",
    "    \"component\": first_component[\"component_name\"],\n",
    "    \"data_request\": {\n",
    "        \"index_sets\": [\n",
    "            {\n",
    "                \"index_title\": \"technology\",\n",
    "                \"indices\": [\"natural_gas_boiler\", \"photovoltaics\"]\n",
    "            }\n",
    "        ]\n",
    "    }\n",
    "}\n",
    "\n",
    "result = requests.post(f\"{base_url}/solutions/get_data\", json=request).json()\n",
    "print(result)"
   ]
  },
  {
   "cell_type": "markdown",
   "metadata": {},
   "source": [
    "We can arbitrarily add more filters to it. Not specifying the indices simply selects all options:"
   ]
  },
  {
   "cell_type": "code",
   "execution_count": null,
   "metadata": {},
   "outputs": [],
   "source": [
    "request = {\n",
    "    \"solution_name\": first_solution[\"name\"],\n",
    "    \"component\": first_component[\"component_name\"],\n",
    "    \"data_request\": {\n",
    "        \"index_sets\": [\n",
    "            {\n",
    "                \"index_title\": \"technology\"\n",
    "            },\n",
    "            {\n",
    "                \"index_title\": \"node\",\n",
    "                \"indices\": [\"CH\"]\n",
    "            }\n",
    "        ]\n",
    "    }\n",
    "}\n",
    "\n",
    "result = requests.post(f\"{base_url}/solutions/get_data\", json=request).json()\n",
    "print(result)"
   ]
  },
  {
   "cell_type": "markdown",
   "metadata": {},
   "source": [
    "By default, each time series of the indices are returned separately. We can overwrite this behaviour by specifying the `behaviour` field in the script in order to sum over the indices. For example we can select the technologies `natural_gas_boiler` and `photovoltaics` and sum over the nodes `CH` and `DE`:"
   ]
  },
  {
   "cell_type": "code",
   "execution_count": null,
   "metadata": {},
   "outputs": [],
   "source": [
    "request = {\n",
    "    \"solution_name\": first_solution[\"name\"],\n",
    "    \"component\": first_component[\"component_name\"],\n",
    "    \"data_request\": {\n",
    "        \"index_sets\": [\n",
    "            {\n",
    "                \"index_title\": \"technology\",\n",
    "                \"indices\": [\"natural_gas_boiler\", \"photovoltaics\"]\n",
    "            },\n",
    "            {\n",
    "                \"index_title\": \"node\",\n",
    "                \"indices\": [\"CH\", \"DE\"],\n",
    "                \"behaviour\": \"sum\"\n",
    "            }\n",
    "        ]\n",
    "    }\n",
    "}\n",
    "\n",
    "result = requests.post(f\"{base_url}/solutions/get_data\", json=request).json()\n",
    "print(result)"
   ]
  },
  {
   "cell_type": "markdown",
   "metadata": {},
   "source": [
    "Since not specifying any indices at all selects all possible indices, we can for example sum over all time steps:"
   ]
  },
  {
   "cell_type": "code",
   "execution_count": null,
   "metadata": {},
   "outputs": [],
   "source": [
    "request = {\n",
    "    \"solution_name\": first_solution[\"name\"],\n",
    "    \"component\": first_component[\"component_name\"],\n",
    "    \"data_request\": {\n",
    "        \"index_sets\": [\n",
    "            {\n",
    "                \"index_title\": \"technology\",\n",
    "                \"indices\": [\"natural_gas_boiler\", \"photovoltaics\"]\n",
    "            },\n",
    "            {\n",
    "                \"index_title\": \"node\",\n",
    "                \"behaviour\": \"sum\",\n",
    "                \"indices\": [\"CH\", \"DE\"]\n",
    "            },\n",
    "            {\n",
    "                \"index_title\": \"time_step\",\n",
    "                \"behaviour\": \"sum\"\n",
    "            }\n",
    "        ]\n",
    "    }\n",
    "}\n",
    "\n",
    "result = requests.post(f\"{base_url}/solutions/get_data\", json=request).json()\n",
    "print(result)"
   ]
  },
  {
   "cell_type": "markdown",
   "metadata": {},
   "source": [
    "Currenly, NaN-Values are filtered and when a Sum contains NaN, the result will be NaN. This behaviour could easily be adapted. By default, the data are not aggregated. However, there are some components which are not yearly and there we can aggregate the values:"
   ]
  },
  {
   "cell_type": "code",
   "execution_count": null,
   "metadata": {},
   "outputs": [],
   "source": [
    "request = {\n",
    "    \"solution_name\": \"PI\",\n",
    "    \"component\": \"carbon_emissions_carrier\",\n",
    "    \"data_request\": {\n",
    "        \"index_sets\": [\n",
    "            {\n",
    "                \"index_title\": \"carrier\",\n",
    "                \"indices\": [\"natural_gas\"]\n",
    "            },\n",
    "            {\n",
    "                \"index_title\": \"node\",\n",
    "                \"behaviour\": \"sum\",\n",
    "                \"indices\": [\"CH\", \"DE\"]\n",
    "            },\n",
    "        ]\n",
    "    },\n",
    "    \"aggregate_years\": True\n",
    "}\n",
    "\n",
    "result = requests.post(f\"{base_url}/solutions/get_data\", json=request).json()\n",
    "print(result)"
   ]
  }
 ],
 "metadata": {
  "kernelspec": {
   "display_name": "venv",
   "language": "python",
   "name": "python3"
  },
  "language_info": {
   "codemirror_mode": {
    "name": "ipython",
    "version": 3
   },
   "file_extension": ".py",
   "mimetype": "text/x-python",
   "name": "python",
   "nbconvert_exporter": "python",
   "pygments_lexer": "ipython3",
   "version": "3.10.12"
  }
 },
 "nbformat": 4,
 "nbformat_minor": 2
}
